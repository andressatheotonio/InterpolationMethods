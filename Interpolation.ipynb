{
  "nbformat": 4,
  "nbformat_minor": 0,
  "metadata": {
    "colab": {
      "name": "Interpolation.ipynb",
      "version": "0.3.2",
      "provenance": [],
      "include_colab_link": true
    },
    "kernelspec": {
      "name": "python3",
      "display_name": "Python 3"
    }
  },
  "cells": [
    {
      "cell_type": "markdown",
      "metadata": {
        "id": "view-in-github",
        "colab_type": "text"
      },
      "source": [
        "<a href=\"https://colab.research.google.com/github/andressatheotonio/InterpolationMethods/blob/master/Interpolation.ipynb\" target=\"_parent\"><img src=\"https://colab.research.google.com/assets/colab-badge.svg\" alt=\"Open In Colab\"/></a>"
      ]
    },
    {
      "cell_type": "markdown",
      "metadata": {
        "id": "Zw73s7Tznel5",
        "colab_type": "text"
      },
      "source": [
        "# Interpolação \n",
        "\n",
        "## Pontos \n",
        "\n",
        "Os pontos utilizados foram retirados do dataset \"FiveThirtyEight Drug Use By Age Dataset\" disponível no Kaggle através do endereço: https://www.kaggle.com/fivethirtyeight/fivethirtyeight-drug-use-by-age-dataset.\n",
        "\n",
        "Os pontos escolhidos foram as idades de 12 até 22 anos e a porcentagem da população nessa faixa etária que consomem álcool nos EUA.\n",
        "\n",
        "## Métodos \n",
        "\n",
        "*  Método de Newton\n",
        "*  Método de Lagrange\n",
        "*  Spline Linear\n",
        "\n",
        "\n",
        "\n",
        "\n"
      ]
    },
    {
      "cell_type": "markdown",
      "metadata": {
        "id": "YSQy7KuaqBA9",
        "colab_type": "text"
      },
      "source": [
        "## Importando Bibliotecas\n"
      ]
    },
    {
      "cell_type": "code",
      "metadata": {
        "id": "deg4UEZRqEHd",
        "colab_type": "code",
        "colab": {}
      },
      "source": [
        "import numpy as np\n",
        "import matplotlib.pyplot as plt "
      ],
      "execution_count": 0,
      "outputs": []
    },
    {
      "cell_type": "markdown",
      "metadata": {
        "id": "A01xGKifqJDx",
        "colab_type": "text"
      },
      "source": [
        "## Definindo pontos"
      ]
    },
    {
      "cell_type": "code",
      "metadata": {
        "id": "6ITSBj7AqMu8",
        "colab_type": "code",
        "colab": {}
      },
      "source": [
        "X = [12, 13, 14, 15, 16, 17, 18, 19, 20, 21, 22] #idades\n",
        "Y = [3.9, 8.5, 18.1, 29.2, 40.1, 49.3, 58.7, 64.6, 69.7, 83.2, 84.2] #uso de álcool\n",
        "n = len(X) #tamanho da lista de idades\n",
        "x = [12.5, 13.5, 14.5, 15.5, 16.5, 17.5, 18.5, 19.5, 20.5, 21.5, 22.5] #pontos verificados"
      ],
      "execution_count": 0,
      "outputs": []
    },
    {
      "cell_type": "markdown",
      "metadata": {
        "id": "Mv8nhskyqcGf",
        "colab_type": "text"
      },
      "source": [
        "## Método de Newton"
      ]
    },
    {
      "cell_type": "code",
      "metadata": {
        "id": "zaxA7WIiqfgo",
        "colab_type": "code",
        "outputId": "96376eae-2c9f-468a-fe75-df1503b673bd",
        "colab": {
          "base_uri": "https://localhost:8080/",
          "height": 281
        }
      },
      "source": [
        "def matrizes(n, X, Y):\n",
        "    \n",
        "    m2 = []\n",
        "    \n",
        "    for i in Y:\n",
        "        m2.append([i])\n",
        "    \n",
        "    m1 = []\n",
        "    \n",
        "    for i in range (0, n):\n",
        "        z = []\n",
        "        for j in range (0, n):\n",
        "            z.append(0)\n",
        "        m1.append(z)\n",
        "    \n",
        "    for i in range (0, n):\n",
        "        m1[i][0] = 1\n",
        "    \n",
        "    for i in range (1, n):\n",
        "        product  = 1\n",
        "        for j in range (1, i+1):\n",
        "            product *= (X[i]-X[j-1])\n",
        "            m1[i][j] = product\n",
        "    \n",
        "    return m1, m2\n",
        "\n",
        "m1, m2 = matrizes(n, X, Y)\n",
        "m_res = np.linalg.solve(m1, m2)\n",
        "\n",
        "pts = [] #lista de pontos para traçar o gráfico\n",
        "\n",
        "for i in range (0,11):\n",
        "  a = (m_res[1]*(x[i]-X[0]))\n",
        "  b = (m_res[2]*(x[i]-X[0])*(x[i]-X[1]))\n",
        " \n",
        "  p = m_res[0] + a + b\n",
        "  \n",
        "  pts.append(p)\n",
        "  \n",
        "#print(pts)\n",
        "\n",
        "plt.plot(x,pts)\n",
        "plt.title(\"Interpolação - Newton\")\n",
        "plt.show()"
      ],
      "execution_count": 0,
      "outputs": [
        {
          "output_type": "display_data",
          "data": {
            "image/png": "[encoded data removed]",
            "text/plain": [
              "<Figure size 432x288 with 1 Axes>"
            ]
          },
          "metadata": {
            "tags": []
          }
        }
      ]
    },
    {
      "cell_type": "markdown",
      "metadata": {
        "id": "sDpPUI2FtKoP",
        "colab_type": "text"
      },
      "source": [
        "## Método de Lagrange"
      ]
    },
    {
      "cell_type": "code",
      "metadata": {
        "id": "iLLNolwytQQl",
        "colab_type": "code",
        "outputId": "3647c56c-54d9-41c9-ee78-162e46a7a714",
        "colab": {
          "base_uri": "https://localhost:8080/",
          "height": 281
        }
      },
      "source": [
        "def matriz(X, x, n):\n",
        "    m = []\n",
        "    \n",
        "    for i in range(0, n):\n",
        "        aux = []\n",
        "        for j in range (0, n):\n",
        "            if i == j:\n",
        "                aux.append(x-X[i])\n",
        "            else:\n",
        "                aux.append(X[i]-X[j])\n",
        "        m.append(aux)\n",
        "    \n",
        "    return m\n",
        "\n",
        "def produtoD(m, n):\n",
        "    res = 1\n",
        "    for i in range (0, n):\n",
        "        res*=m[i][i]\n",
        "    return res\n",
        "\n",
        "def produtoL(m, line, n):\n",
        "    res = 1\n",
        "    for i in range (0, n):\n",
        "        res*=m[line][i]\n",
        "    return res\n",
        "\n",
        "pts2 = []\n",
        "\n",
        "for k in range (0,11):\n",
        "  m = matriz(X, x[k], n)\n",
        "\n",
        "  diagonal = produtoD(m, n)\n",
        "  p = 0\n",
        "\n",
        "  for i in range (0, n):\n",
        "      L = diagonal/produtoL(m, i, n)\n",
        "      p += (Y[i]*L)\n",
        "\n",
        "  pts2.append(p)\n",
        "  \n",
        "#print(pts2)\n",
        "\n",
        "plt.plot(x,pts2)\n",
        "plt.title(\"Interpolação - Lagrange\")\n",
        "plt.show()"
      ],
      "execution_count": 0,
      "outputs": [
        {
          "output_type": "display_data",
          "data": {
            "image/png": "[encoded data removed]",
            "text/plain": [
              "<Figure size 432x288 with 1 Axes>"
            ]
          },
          "metadata": {
            "tags": []
          }
        }
      ]
    },
    {
      "cell_type": "markdown",
      "metadata": {
        "id": "QpgjhiqMvMKO",
        "colab_type": "text"
      },
      "source": [
        "## Spline Linear"
      ]
    },
    {
      "cell_type": "code",
      "metadata": {
        "id": "jZSVqdFevPys",
        "colab_type": "code",
        "outputId": "97e300a2-9483-4997-e5da-dc97e79373b4",
        "colab": {
          "base_uri": "https://localhost:8080/",
          "height": 281
        }
      },
      "source": [
        "def splinelinear(X, Y, n, i, x):\n",
        "    if i == n:\n",
        "        return 0\n",
        "\n",
        "    return Y[i] + (((Y[i+1]-Y[i])/(X[i+1]-X[i]))*(x-X[i]))\n",
        "  \n",
        "pts3 = []\n",
        "\n",
        "for i in range(0,n):\n",
        "  for j in range(0,n-1):\n",
        "    if x[i] >= X[j] and x[i] <= X[j+1]:\n",
        "       pts3.append(splinelinear(X, Y, n, j, x[i]))\n",
        "      \n",
        "#print(pts3)\n",
        "\n",
        "plt.plot(x[0:n-1],pts3)\n",
        "plt.title(\"Interpolação - Spline Linear\")\n",
        "plt.show()\n"
      ],
      "execution_count": 0,
      "outputs": [
        {
          "output_type": "display_data",
          "data": {
            "image/png": "[encoded data removed]",
            "text/plain": [
              "<Figure size 432x288 with 1 Axes>"
            ]
          },
          "metadata": {
            "tags": []
          }
        }
      ]
    }
  ]
}